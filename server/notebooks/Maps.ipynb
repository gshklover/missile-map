{
 "cells": [
  {
   "cell_type": "code",
   "execution_count": null,
   "id": "1b0b48e1-2945-4404-a7b9-dc99c48c381f",
   "metadata": {},
   "outputs": [],
   "source": [
    "from bokeh.plotting import gmap, output_notebook, show\n",
    "output_notebook()\n",
    "\n",
    "# add project source directory to python path:\n",
    "import sys\n",
    "path = '/home/greg/src/missile-map/server'\n",
    "if path not in sys.path:\n",
    "    sys.path.append(path)\n",
    "\n",
    "# check Google Maps API key:\n",
    "import os\n",
    "if 'MAPS_API_KEY' not in os.environ:\n",
    "    raise Exception('MAPS_API_KEY environment variable is required to render Google maps (https://developers.google.com/maps/documentation/javascript/get-api-key)')\n",
    "\n",
    "# WARNING:\n",
    "# DO NOT ADD notebooks with \"gmap\" to Git - it leaks the key"
   ]
  },
  {
   "cell_type": "code",
   "execution_count": null,
   "id": "66217a68-3ed5-4112-ba37-eafffb652692",
   "metadata": {},
   "outputs": [],
   "source": [
    "from geopy import Point\n",
    "from simulator import Simulator, Observer, random_location\n",
    "from missilemap import Target\n",
    "import random\n",
    "\n",
    "r = random.Random(12345)\n",
    "\n",
    "# generate targets:\n",
    "path = [\n",
    "    Point(45.361285195897885, 33.90794799044153),\n",
    "    Point(47.487079766379715, 33.081535775384715),\n",
    "    Point(49.47728424495352, 27.901909920451157),\n",
    "    Point(49.83269083681804, 24.09401307480089)\n",
    "]\n",
    "\n",
    "path2 = [\n",
    "    Point(45.361285195897885, 33.90794799044153),\n",
    "    Point(49.3, 33.081535775384715),\n",
    "    Point(50.3, 28.3)\n",
    "]\n",
    "\n",
    "# generate observer locations:\n",
    "DEFAULT_RADIUS = 5000\n",
    "observers = []\n",
    "\n",
    "for p_from, p_to in zip(path[:-1], path[1:]):\n",
    "    for _ in range(10):\n",
    "        observers.append(Observer(location=random_location(p_from, p_to, DEFAULT_RADIUS, random=r), radius=DEFAULT_RADIUS))\n",
    "            \n",
    "for p_from, p_to in zip(path2[:-1], path2[1:]):\n",
    "    for _ in range(10):\n",
    "        observers.append(Observer(location=random_location(p_from, p_to, DEFAULT_RADIUS, random=r), radius=DEFAULT_RADIUS))\n",
    "\n",
    "sim = Simulator(targets=[\n",
    "    Target(path=path, start_time=0),\n",
    "    Target(path=path2, start_time=30),\n",
    "], observers=observers, random=r)\n",
    "\n",
    "show(sim.render())\n"
   ]
  },
  {
   "cell_type": "code",
   "execution_count": null,
   "id": "ed66fcd2-3869-4d2f-8bff-083f612ba53d",
   "metadata": {},
   "outputs": [],
   "source": [
    "import sys\n",
    "# import importlib\n",
    "\n",
    "# importlib.reload(sys.modules['missilemap.analysis'])\n",
    "# importlib.reload(sys.modules['simulator.plotting'])\n",
    "\n",
    "from missilemap.analysis import expectation_maximization\n",
    "\n",
    "proj = expectation_maximization(\n",
    "    sightings=sim.sightings,\n",
    "    n_segments=5,\n",
    "    iterations=20\n",
    ")\n",
    "\n",
    "from simulator.plotting import render_path\n",
    "\n",
    "gmap = sim.render()\n",
    "\n",
    "for p in proj:\n",
    "    render_path(gmap, p.path, line_color='magenta', line_width=6, line_alpha=0.5)\n",
    "    \n",
    "show(gmap)\n"
   ]
  },
  {
   "cell_type": "markdown",
   "id": "eec62de8-7f7e-469b-837e-22a730d4c081",
   "metadata": {},
   "source": [
    "## Using Gausian Mixture Algorithm"
   ]
  },
  {
   "cell_type": "code",
   "execution_count": null,
   "id": "728f8ce8-3098-4904-9670-12be30fbb71b",
   "metadata": {},
   "outputs": [],
   "source": [
    "points = numpy.array([\n",
    "    [s.timestamp, s.latitude, s.longitude] for s in sim.sightings\n",
    "])\n",
    "\n",
    "\n",
    "from sklearn.mixture import GaussianMixture\n",
    "\n",
    "m = GaussianMixture(n_components=3)\n",
    "res = m.fit_predict(points)\n",
    "res\n"
   ]
  },
  {
   "cell_type": "code",
   "execution_count": null,
   "id": "5dd17a0a-9fbe-4ce0-bb9e-dbcaabec8ead",
   "metadata": {},
   "outputs": [],
   "source": [
    "sim.estimated"
   ]
  },
  {
   "cell_type": "code",
   "execution_count": null,
   "id": "95d055eb-534c-4940-b897-479990acefaa",
   "metadata": {},
   "outputs": [],
   "source": [
    "from missilemap.analysis import sightings_to_targets\n",
    "\n",
    "sim.sightings[16]"
   ]
  },
  {
   "cell_type": "code",
   "execution_count": null,
   "id": "baf672ad-1011-4fd7-bc3a-4e00ddf5b7ff",
   "metadata": {},
   "outputs": [],
   "source": [
    "sim.estimated[1].at_time(2716), sim.estimated[2].at_time(2716)"
   ]
  },
  {
   "cell_type": "code",
   "execution_count": null,
   "id": "aaf1347d-c9b2-4edd-9c0f-3bf77669604f",
   "metadata": {},
   "outputs": [],
   "source": [
    "from geopy.distance import distance\n",
    "from missilemap.utils import get_bearing\n",
    "\n",
    "target = sim.estimated[2]\n",
    "\n",
    "distance(meters=(2716 - target.end_time) * target.speed).destination(target.path[-1], bearing=get_bearing(target.path[-2], target.path[-1]))\n"
   ]
  },
  {
   "cell_type": "code",
   "execution_count": null,
   "id": "d58c9aa6-9695-4fb2-b65f-0f419ee85f8c",
   "metadata": {},
   "outputs": [],
   "source": [
    "from missilemap.utils import interpolate"
   ]
  },
  {
   "cell_type": "code",
   "execution_count": null,
   "id": "8a675cd9-a927-4e4c-8050-1cda478165c6",
   "metadata": {},
   "outputs": [],
   "source": [
    "alpha = 1 + (2716 - target.end_time) / (target.end_time - target.start_time)\n",
    "\n",
    "# (target.path[-1].latitude * alpha + (1 - alpha) * target.path[-2].latitude, target.path[-1].longitude * alpha + (1 - alpha) * target.path[-2].longitude)\n",
    "interpolate(target.path[-2], target.path[-1], alpha)"
   ]
  }
 ],
 "metadata": {
  "kernelspec": {
   "display_name": "Python 3 (ipykernel)",
   "language": "python",
   "name": "python3"
  },
  "language_info": {
   "codemirror_mode": {
    "name": "ipython",
    "version": 3
   },
   "file_extension": ".py",
   "mimetype": "text/x-python",
   "name": "python",
   "nbconvert_exporter": "python",
   "pygments_lexer": "ipython3",
   "version": "3.10.4"
  }
 },
 "nbformat": 4,
 "nbformat_minor": 5
}
